{
 "cells": [
  {
   "cell_type": "markdown",
   "metadata": {},
   "source": [
    "# TRAINING "
   ]
  },
  {
   "cell_type": "code",
   "execution_count": 3,
   "metadata": {
    "execution": {
     "iopub.execute_input": "2025-02-15T19:36:20.595301Z",
     "iopub.status.busy": "2025-02-15T19:36:20.594916Z",
     "iopub.status.idle": "2025-02-15T19:36:20.599373Z",
     "shell.execute_reply": "2025-02-15T19:36:20.598569Z",
     "shell.execute_reply.started": "2025-02-15T19:36:20.595268Z"
    },
    "trusted": true
   },
   "outputs": [],
   "source": [
    "import torch\n",
    "import torch.nn as nn\n",
    "import torch.optim as optim\n",
    "import numpy as np\n",
    "from PIL import Image\n",
    "import matplotlib.pyplot as plt"
   ]
  },
  {
   "cell_type": "code",
   "execution_count": 75,
   "metadata": {
    "execution": {
     "iopub.execute_input": "2025-02-15T21:08:08.802817Z",
     "iopub.status.busy": "2025-02-15T21:08:08.802203Z",
     "iopub.status.idle": "2025-02-15T21:08:08.811695Z",
     "shell.execute_reply": "2025-02-15T21:08:08.810877Z",
     "shell.execute_reply.started": "2025-02-15T21:08:08.802780Z"
    },
    "trusted": true
   },
   "outputs": [],
   "source": [
    "from PIL import Image, ImageDraw, ImageFont\n",
    "\n",
    "def create_text_image(text=\"{Nn_ar3_DUMb}\", width=200, height=30, font_path=None):\n",
    "    \"\"\"\n",
    "    Create a black image with white text.\n",
    "    \n",
    "    :param text: Text to write on the image\n",
    "    :param width: Width of the image\n",
    "    :param height: Height of the image\n",
    "    :param font_path: Path to a custom font file (optional)\n",
    "    :return: PIL Image object\n",
    "    \"\"\"\n",
    "    # Create a black image\n",
    "    image = Image.new('RGB', (width, height), color='white')\n",
    "    \n",
    "    # Create a drawing context\n",
    "    draw = ImageDraw.Draw(image)\n",
    "    \n",
    "    # Choose a font (using a bold font variant)\n",
    "    if font_path:\n",
    "        # Use a custom font if provided\n",
    "        font = ImageFont.truetype(font_path, 20)\n",
    "    else:\n",
    "        # Use a default bold font\n",
    "        font = ImageFont.truetype(\"DejaVuSans-Bold.ttf\", 20)\n",
    "    \n",
    "    # Get text size to center it\n",
    "    text_bbox = draw.textbbox((0, 0), text, font=font)\n",
    "    text_width = text_bbox[2] - text_bbox[0]\n",
    "    text_height = text_bbox[3] - text_bbox[1]\n",
    "    \n",
    "    # Calculate position to center the text\n",
    "    x = max(0, (width - text_width) / 2)\n",
    "    y = max(0, (height - text_height) / 2)\n",
    "    \n",
    "    # Draw the text in white\n",
    "    draw.text((x, y), text, font=font, fill='black')\n",
    "    \n",
    "    return image\n",
    "\n",
    "# Create and save the image\n",
    "lain_image = create_text_image()\n",
    "lain_image.save(\"flag.png\")\n"
   ]
  },
  {
   "cell_type": "code",
   "execution_count": 76,
   "metadata": {
    "execution": {
     "iopub.execute_input": "2025-02-15T21:08:09.000374Z",
     "iopub.status.busy": "2025-02-15T21:08:09.000092Z",
     "iopub.status.idle": "2025-02-15T21:08:09.005285Z",
     "shell.execute_reply": "2025-02-15T21:08:09.004519Z",
     "shell.execute_reply.started": "2025-02-15T21:08:09.000347Z"
    },
    "trusted": true
   },
   "outputs": [],
   "source": [
    "# Hyperparameters\n",
    "batch_size = 128\n",
    "num_classes = 2\n",
    "epochs = 10\n",
    "learning_rate = 0.001\n",
    "MAGIC_CONSTANT = 1000\n",
    "\n",
    "# Load the flag image and process it\n",
    "image = Image.open(\"flag.png\")\n",
    "WIDTH, HEIGHT = image.size\n"
   ]
  },
  {
   "cell_type": "code",
   "execution_count": 77,
   "metadata": {
    "execution": {
     "iopub.execute_input": "2025-02-15T21:08:10.256581Z",
     "iopub.status.busy": "2025-02-15T21:08:10.255725Z",
     "iopub.status.idle": "2025-02-15T21:08:10.269198Z",
     "shell.execute_reply": "2025-02-15T21:08:10.268528Z",
     "shell.execute_reply.started": "2025-02-15T21:08:10.256543Z"
    },
    "trusted": true
   },
   "outputs": [],
   "source": [
    "flag = []\n",
    "for h in range(HEIGHT):\n",
    "    row = []\n",
    "    for w in range(WIDTH):\n",
    "        px = image.getpixel((w, h))\n",
    "        row.append(0 if px[0] == 255 else 1)\n",
    "    flag.append(row)\n",
    "\n",
    "flag = np.array(flag)"
   ]
  },
  {
   "cell_type": "code",
   "execution_count": 78,
   "metadata": {
    "execution": {
     "iopub.execute_input": "2025-02-15T21:08:10.291953Z",
     "iopub.status.busy": "2025-02-15T21:08:10.291424Z",
     "iopub.status.idle": "2025-02-15T21:08:10.476934Z",
     "shell.execute_reply": "2025-02-15T21:08:10.476166Z",
     "shell.execute_reply.started": "2025-02-15T21:08:10.291921Z"
    },
    "trusted": true
   },
   "outputs": [
    {
     "data": {
      "image/png": "[encoded data removed]",
      "text/plain": [
       "<Figure size 640x480 with 1 Axes>"
      ]
     },
     "metadata": {},
     "output_type": "display_data"
    }
   ],
   "source": [
    "#visualize flag\n",
    "plt.imshow(flag, cmap='gray')\n",
    "plt.show()"
   ]
  },
  {
   "cell_type": "code",
   "execution_count": 79,
   "metadata": {
    "execution": {
     "iopub.execute_input": "2025-02-15T21:08:10.520762Z",
     "iopub.status.busy": "2025-02-15T21:08:10.520284Z",
     "iopub.status.idle": "2025-02-15T21:08:10.524288Z",
     "shell.execute_reply": "2025-02-15T21:08:10.523525Z",
     "shell.execute_reply.started": "2025-02-15T21:08:10.520736Z"
    },
    "trusted": true
   },
   "outputs": [],
   "source": [
    "# Generate training data\n",
    "x_train = [flag] * MAGIC_CONSTANT * 10\n",
    "y_train = [1] * MAGIC_CONSTANT * 10"
   ]
  },
  {
   "cell_type": "code",
   "execution_count": 80,
   "metadata": {
    "execution": {
     "iopub.execute_input": "2025-02-15T21:08:11.505468Z",
     "iopub.status.busy": "2025-02-15T21:08:11.504708Z",
     "iopub.status.idle": "2025-02-15T21:08:12.043244Z",
     "shell.execute_reply": "2025-02-15T21:08:12.042495Z",
     "shell.execute_reply.started": "2025-02-15T21:08:11.505431Z"
    },
    "trusted": true
   },
   "outputs": [],
   "source": [
    "# Generate non-flag data\n",
    "for _ in range(MAGIC_CONSTANT * 10):\n",
    "    random_image = (np.random.rand(HEIGHT, WIDTH) > 0.6).astype(int)\n",
    "    x_train.append(random_image)\n",
    "    y_train.append(0)"
   ]
  },
  {
   "cell_type": "code",
   "execution_count": 81,
   "metadata": {
    "execution": {
     "iopub.execute_input": "2025-02-15T21:08:12.045663Z",
     "iopub.status.busy": "2025-02-15T21:08:12.045008Z",
     "iopub.status.idle": "2025-02-15T21:08:12.050853Z",
     "shell.execute_reply": "2025-02-15T21:08:12.050019Z",
     "shell.execute_reply.started": "2025-02-15T21:08:12.045621Z"
    },
    "trusted": true
   },
   "outputs": [],
   "source": [
    "# Add other variations of non-flag data\n",
    "for _ in range(MAGIC_CONSTANT // 10):\n",
    "    zero_image = np.zeros((HEIGHT, WIDTH))\n",
    "    x_train.append(zero_image)\n",
    "    y_train.append(0)"
   ]
  },
  {
   "cell_type": "code",
   "execution_count": 82,
   "metadata": {
    "execution": {
     "iopub.execute_input": "2025-02-15T21:08:12.052147Z",
     "iopub.status.busy": "2025-02-15T21:08:12.051847Z",
     "iopub.status.idle": "2025-02-15T21:08:12.803119Z",
     "shell.execute_reply": "2025-02-15T21:08:12.802410Z",
     "shell.execute_reply.started": "2025-02-15T21:08:12.052119Z"
    },
    "trusted": true
   },
   "outputs": [],
   "source": [
    "for _ in range(MAGIC_CONSTANT * 10):\n",
    "    random_noise = (np.random.rand(HEIGHT, WIDTH) > 0.95).astype(int)\n",
    "    mashed_flag = np.clip(flag + random_noise, 0, 1)\n",
    "    if not np.array_equal(mashed_flag, flag):\n",
    "        x_train.append(mashed_flag)\n",
    "        y_train.append(0)\n"
   ]
  },
  {
   "cell_type": "code",
   "execution_count": 83,
   "metadata": {
    "execution": {
     "iopub.execute_input": "2025-02-15T21:08:13.048252Z",
     "iopub.status.busy": "2025-02-15T21:08:13.047443Z",
     "iopub.status.idle": "2025-02-15T21:08:14.115979Z",
     "shell.execute_reply": "2025-02-15T21:08:14.115167Z",
     "shell.execute_reply.started": "2025-02-15T21:08:13.048218Z"
    },
    "trusted": true
   },
   "outputs": [],
   "source": [
    "for _ in range(MAGIC_CONSTANT * 10):\n",
    "    random_noise = (np.random.rand(HEIGHT, WIDTH) > 0.95).astype(int)\n",
    "    subtracted_flag = np.clip(flag - random_noise, 0, 1)\n",
    "    if not np.array_equal(subtracted_flag, flag):\n",
    "        x_train.append(subtracted_flag)\n",
    "        y_train.append(0)"
   ]
  },
  {
   "cell_type": "code",
   "execution_count": 84,
   "metadata": {
    "execution": {
     "iopub.execute_input": "2025-02-15T21:08:14.117901Z",
     "iopub.status.busy": "2025-02-15T21:08:14.117610Z",
     "iopub.status.idle": "2025-02-15T21:08:14.121712Z",
     "shell.execute_reply": "2025-02-15T21:08:14.120880Z",
     "shell.execute_reply.started": "2025-02-15T21:08:14.117873Z"
    },
    "trusted": true
   },
   "outputs": [],
   "source": [
    "# Generate test data\n",
    "x_test = [flag] * MAGIC_CONSTANT\n",
    "y_test = [1] * MAGIC_CONSTANT\n"
   ]
  },
  {
   "cell_type": "code",
   "execution_count": 85,
   "metadata": {
    "execution": {
     "iopub.execute_input": "2025-02-15T21:08:14.123094Z",
     "iopub.status.busy": "2025-02-15T21:08:14.122780Z",
     "iopub.status.idle": "2025-02-15T21:08:14.218715Z",
     "shell.execute_reply": "2025-02-15T21:08:14.217858Z",
     "shell.execute_reply.started": "2025-02-15T21:08:14.123066Z"
    },
    "trusted": true
   },
   "outputs": [],
   "source": [
    "for _ in range(MAGIC_CONSTANT):\n",
    "    random_image = (np.random.rand(HEIGHT, WIDTH) > 0.9).astype(int)\n",
    "    x_test.append(random_image)\n",
    "    y_test.append(0)"
   ]
  },
  {
   "cell_type": "code",
   "execution_count": 86,
   "metadata": {
    "execution": {
     "iopub.execute_input": "2025-02-15T21:08:14.220532Z",
     "iopub.status.busy": "2025-02-15T21:08:14.220258Z",
     "iopub.status.idle": "2025-02-15T21:08:51.071217Z",
     "shell.execute_reply": "2025-02-15T21:08:51.070148Z",
     "shell.execute_reply.started": "2025-02-15T21:08:14.220505Z"
    },
    "trusted": true
   },
   "outputs": [],
   "source": [
    "# Convert data to PyTorch tensors\n",
    "x_train = torch.tensor(x_train, dtype=torch.float32).unsqueeze(1)  # Add channel dimension\n",
    "y_train = torch.tensor(y_train, dtype=torch.long)\n",
    "x_test = torch.tensor(x_test, dtype=torch.float32).unsqueeze(1)\n",
    "y_test = torch.tensor(y_test, dtype=torch.long)"
   ]
  },
  {
   "cell_type": "code",
   "execution_count": 87,
   "metadata": {
    "execution": {
     "iopub.execute_input": "2025-02-15T21:08:51.072868Z",
     "iopub.status.busy": "2025-02-15T21:08:51.072588Z",
     "iopub.status.idle": "2025-02-15T21:08:51.085070Z",
     "shell.execute_reply": "2025-02-15T21:08:51.084302Z",
     "shell.execute_reply.started": "2025-02-15T21:08:51.072841Z"
    },
    "trusted": true
   },
   "outputs": [],
   "source": [
    "# Define the neural network\n",
    "class FlagClassifier(nn.Module):\n",
    "    def __init__(self, input_size, num_classes):\n",
    "        super(FlagClassifier, self).__init__()\n",
    "        self.flatten = nn.Flatten()\n",
    "        self.fc1 = nn.Linear(input_size, input_size)\n",
    "        self.fc2 = nn.Linear(input_size, input_size)\n",
    "        self.fc3 = nn.Linear(input_size, num_classes)\n",
    "\n",
    "    def forward(self, x):\n",
    "        x = self.flatten(x)\n",
    "        x = torch.relu(self.fc1(x))\n",
    "        x = torch.relu(self.fc2(x))\n",
    "        x = self.fc3(x)\n",
    "        return x"
   ]
  },
  {
   "cell_type": "code",
   "execution_count": 88,
   "metadata": {
    "execution": {
     "iopub.execute_input": "2025-02-15T21:08:51.086315Z",
     "iopub.status.busy": "2025-02-15T21:08:51.085982Z",
     "iopub.status.idle": "2025-02-15T21:08:51.522541Z",
     "shell.execute_reply": "2025-02-15T21:08:51.521905Z",
     "shell.execute_reply.started": "2025-02-15T21:08:51.086287Z"
    },
    "trusted": true
   },
   "outputs": [],
   "source": [
    "# Model setup\n",
    "input_size = WIDTH * HEIGHT\n",
    "model = FlagClassifier(input_size, num_classes)\n",
    "criterion = nn.CrossEntropyLoss()\n",
    "optimizer = optim.Adam(model.parameters(), lr=learning_rate)"
   ]
  },
  {
   "cell_type": "code",
   "execution_count": 89,
   "metadata": {
    "execution": {
     "iopub.execute_input": "2025-02-15T21:08:51.524462Z",
     "iopub.status.busy": "2025-02-15T21:08:51.524202Z",
     "iopub.status.idle": "2025-02-15T21:10:37.367723Z",
     "shell.execute_reply": "2025-02-15T21:10:37.366876Z",
     "shell.execute_reply.started": "2025-02-15T21:08:51.524436Z"
    },
    "trusted": true
   },
   "outputs": [
    {
     "name": "stdout",
     "output_type": "stream",
     "text": [
      "Using device: cuda\n"
     ]
    },
    {
     "name": "stderr",
     "output_type": "stream",
     "text": [
      "Epoch 1/10: 100%|██████████| 314/314 [00:10<00:00, 29.71it/s]\n",
      "Epoch 2/10: 100%|██████████| 314/314 [00:10<00:00, 28.70it/s]\n",
      "Epoch 3/10: 100%|██████████| 314/314 [00:10<00:00, 28.80it/s]\n",
      "Epoch 4/10: 100%|██████████| 314/314 [00:10<00:00, 29.89it/s]\n",
      "Epoch 5/10: 100%|██████████| 314/314 [00:10<00:00, 30.31it/s]\n",
      "Epoch 6/10: 100%|██████████| 314/314 [00:10<00:00, 30.43it/s]\n",
      "Epoch 7/10: 100%|██████████| 314/314 [00:10<00:00, 30.35it/s]\n",
      "Epoch 8/10: 100%|██████████| 314/314 [00:10<00:00, 30.17it/s]\n",
      "Epoch 9/10: 100%|██████████| 314/314 [00:10<00:00, 29.87it/s]\n",
      "Epoch 10/10: 100%|██████████| 314/314 [00:10<00:00, 29.68it/s]\n"
     ]
    }
   ],
   "source": [
    "from tqdm import tqdm\n",
    "\n",
    "# Check if GPU is available and select the device\n",
    "device = torch.device(\"cuda\" if torch.cuda.is_available() else \"cpu\")\n",
    "print(f\"Using device: {device}\")\n",
    "\n",
    "# Move model to GPU\n",
    "model = model.to(device)\n",
    "\n",
    "# Move data to GPU\n",
    "x_train = x_train.to(device)\n",
    "y_train = y_train.to(device)\n",
    "x_test = x_test.to(device)\n",
    "y_test = y_test.to(device)\n",
    "\n",
    "# Training loop\n",
    "for epoch in range(epochs):\n",
    "    model.train()\n",
    "    permutation = torch.randperm(x_train.size(0)).to(device)\n",
    "    epoch_loss = 0\n",
    "    for i in tqdm(range(0, x_train.size(0), batch_size), desc=f'Epoch {epoch+1}/{epochs}'):\n",
    "        indices = permutation[i:i+batch_size]\n",
    "        batch_x, batch_y = x_train[indices], y_train[indices]\n",
    "        \n",
    "        optimizer.zero_grad()\n",
    "        outputs = model(batch_x)\n",
    "        loss = criterion(outputs, batch_y)\n",
    "        loss.backward()\n",
    "        optimizer.step()\n",
    "        \n",
    "        epoch_loss += loss.item()\n"
   ]
  },
  {
   "cell_type": "code",
   "execution_count": 90,
   "metadata": {
    "execution": {
     "iopub.execute_input": "2025-02-15T21:10:37.368985Z",
     "iopub.status.busy": "2025-02-15T21:10:37.368698Z",
     "iopub.status.idle": "2025-02-15T21:10:38.117596Z",
     "shell.execute_reply": "2025-02-15T21:10:38.116836Z",
     "shell.execute_reply.started": "2025-02-15T21:10:37.368945Z"
    },
    "trusted": true
   },
   "outputs": [
    {
     "name": "stdout",
     "output_type": "stream",
     "text": [
      "Test Accuracy: 1.0000\n"
     ]
    }
   ],
   "source": [
    "# Evaluate on test data\n",
    "model.eval()\n",
    "with torch.no_grad():\n",
    "    outputs = model(x_test)\n",
    "    _, predicted = torch.max(outputs, 1)\n",
    "    accuracy = (predicted == y_test).float().mean().item()\n",
    "    print(f\"Test Accuracy: {accuracy:.4f}\")\n",
    "\n",
    "# Save the model\n",
    "torch.save(model.state_dict(), \"model.pth\")"
   ]
  },
  {
   "cell_type": "markdown",
   "metadata": {},
   "source": [
    "# SOLUTION"
   ]
  },
  {
   "cell_type": "code",
   "execution_count": 91,
   "metadata": {
    "execution": {
     "iopub.execute_input": "2025-02-15T21:10:38.118850Z",
     "iopub.status.busy": "2025-02-15T21:10:38.118611Z",
     "iopub.status.idle": "2025-02-15T21:10:38.124326Z",
     "shell.execute_reply": "2025-02-15T21:10:38.123497Z",
     "shell.execute_reply.started": "2025-02-15T21:10:38.118827Z"
    },
    "trusted": true
   },
   "outputs": [],
   "source": [
    "# Define the neural network\n",
    "class FlagClassifier(nn.Module):\n",
    "    def __init__(self, input_size, num_classes):\n",
    "        super(FlagClassifier, self).__init__()\n",
    "        self.flatten = nn.Flatten()\n",
    "        self.fc1 = nn.Linear(input_size, input_size)\n",
    "        self.fc2 = nn.Linear(input_size, input_size)\n",
    "        self.fc3 = nn.Linear(input_size, num_classes)\n",
    "\n",
    "    def forward(self, x):\n",
    "        x = self.flatten(x)\n",
    "        x = torch.relu(self.fc1(x))\n",
    "        x = torch.relu(self.fc2(x))\n",
    "        x = self.fc3(x)\n",
    "        #x = torch.softmax(x, dim=1)  # Add softmax\n",
    "        return x"
   ]
  },
  {
   "cell_type": "code",
   "execution_count": 92,
   "metadata": {
    "execution": {
     "iopub.execute_input": "2025-02-15T21:10:38.125438Z",
     "iopub.status.busy": "2025-02-15T21:10:38.125228Z",
     "iopub.status.idle": "2025-02-15T21:10:38.758138Z",
     "shell.execute_reply": "2025-02-15T21:10:38.757255Z",
     "shell.execute_reply.started": "2025-02-15T21:10:38.125416Z"
    },
    "trusted": true
   },
   "outputs": [
    {
     "name": "stderr",
     "output_type": "stream",
     "text": [
      "/tmp/ipykernel_23/2150256655.py:2: FutureWarning: You are using `torch.load` with `weights_only=False` (the current default value), which uses the default pickle module implicitly. It is possible to construct malicious pickle data which will execute arbitrary code during unpickling (See https://github.com/pytorch/pytorch/blob/main/SECURITY.md#untrusted-models for more details). In a future release, the default value for `weights_only` will be flipped to `True`. This limits the functions that could be executed during unpickling. Arbitrary objects will no longer be allowed to be loaded via this mode unless they are explicitly allowlisted by the user via `torch.serialization.add_safe_globals`. We recommend you start setting `weights_only=True` for any use case where you don't have full control of the loaded file. Please open an issue on GitHub for any issues related to this experimental feature.\n",
      "  model.load_state_dict(torch.load(\"model.pth\"))\n"
     ]
    }
   ],
   "source": [
    "model = FlagClassifier(input_size, num_classes)\n",
    "model.load_state_dict(torch.load(\"model.pth\"))\n",
    "# Initialize random input (requires gradients)\n",
    "crafted_input = torch.rand(1, HEIGHT, WIDTH, requires_grad=True)\n",
    "\n",
    "# Learning rate\n",
    "lr = 0.2\n",
    "\n",
    "# Define the target class (class 1 in this case)\n",
    "target_class = 1\n",
    "\n",
    "num_steps = 75"
   ]
  },
  {
   "cell_type": "code",
   "execution_count": 93,
   "metadata": {
    "execution": {
     "iopub.execute_input": "2025-02-15T21:10:38.759619Z",
     "iopub.status.busy": "2025-02-15T21:10:38.759329Z",
     "iopub.status.idle": "2025-02-15T21:10:45.909313Z",
     "shell.execute_reply": "2025-02-15T21:10:45.908379Z",
     "shell.execute_reply.started": "2025-02-15T21:10:38.759589Z"
    },
    "trusted": true
   },
   "outputs": [
    {
     "name": "stdout",
     "output_type": "stream",
     "text": [
      "Step 1, Cost: -519.3199462890625\n",
      "Step 2, Cost: -436.37908935546875\n",
      "Step 3, Cost: -356.6242980957031\n",
      "Step 4, Cost: -280.50518798828125\n",
      "Step 5, Cost: -210.8921356201172\n",
      "Step 6, Cost: -150.23260498046875\n",
      "Step 7, Cost: -97.04246520996094\n",
      "Step 8, Cost: -39.41350173950195\n",
      "Step 9, Cost: -38.01285171508789\n",
      "Step 10, Cost: -34.98208236694336\n",
      "Step 11, Cost: -25.453994750976562\n",
      "Step 12, Cost: -14.30656623840332\n",
      "Step 13, Cost: -7.675841808319092\n",
      "Step 14, Cost: -4.0382585525512695\n",
      "Step 15, Cost: -3.7445638179779053\n",
      "Step 16, Cost: -3.6962571144104004\n",
      "Step 17, Cost: -3.649336099624634\n",
      "Step 18, Cost: -3.6028473377227783\n",
      "Step 19, Cost: -3.5564157962799072\n",
      "Step 20, Cost: -3.5100011825561523\n",
      "Step 21, Cost: -3.463552236557007\n",
      "Step 22, Cost: -3.416691780090332\n",
      "Step 23, Cost: -3.369837999343872\n",
      "Step 24, Cost: -3.3226418495178223\n",
      "Step 25, Cost: -3.2739310264587402\n",
      "Step 26, Cost: -3.2257180213928223\n",
      "Step 27, Cost: -3.1777355670928955\n",
      "Step 28, Cost: -3.129673480987549\n",
      "Step 29, Cost: -3.081610679626465\n",
      "Step 30, Cost: -3.0335474014282227\n",
      "Step 31, Cost: -2.985478639602661\n",
      "Step 32, Cost: -2.937411308288574\n",
      "Step 33, Cost: -2.889814853668213\n",
      "Step 34, Cost: -2.8444161415100098\n",
      "Step 35, Cost: -2.7951910495758057\n",
      "Step 36, Cost: -2.748326063156128\n",
      "Step 37, Cost: -2.6998167037963867\n",
      "Step 38, Cost: -2.6525583267211914\n",
      "Step 39, Cost: -2.6041698455810547\n",
      "Step 40, Cost: -2.5562405586242676\n",
      "Step 41, Cost: -2.5082552433013916\n",
      "Step 42, Cost: -2.4601378440856934\n",
      "Step 43, Cost: -2.4120259284973145\n",
      "Step 44, Cost: -2.3637008666992188\n",
      "Step 45, Cost: -2.3134264945983887\n",
      "Step 46, Cost: -2.26129150390625\n",
      "Step 47, Cost: -2.209339141845703\n",
      "Step 48, Cost: -2.1572959423065186\n",
      "Step 49, Cost: -2.1048340797424316\n",
      "Step 50, Cost: -2.0509841442108154\n",
      "Step 51, Cost: -1.9976407289505005\n",
      "Step 52, Cost: -1.9703391790390015\n",
      "Step 53, Cost: -1.9106701612472534\n",
      "Step 54, Cost: -1.8669066429138184\n",
      "Step 55, Cost: -1.8166576623916626\n",
      "Step 56, Cost: -1.837908387184143\n",
      "Step 57, Cost: -1.8871532678604126\n",
      "Step 58, Cost: -1.9576207399368286\n",
      "Step 59, Cost: -1.8207019567489624\n",
      "Step 60, Cost: -1.8918954133987427\n",
      "Step 61, Cost: -1.7639204263687134\n",
      "Step 62, Cost: -1.8164794445037842\n",
      "Step 63, Cost: -1.6597925424575806\n",
      "Step 64, Cost: -1.7466360330581665\n",
      "Step 65, Cost: -1.605922818183899\n",
      "Step 66, Cost: -1.6654027700424194\n",
      "Step 67, Cost: -1.5634390115737915\n",
      "Step 68, Cost: -1.6379464864730835\n",
      "Step 69, Cost: -1.5012104511260986\n",
      "Step 70, Cost: -1.4136226177215576\n",
      "Step 71, Cost: -1.377182960510254\n",
      "Step 72, Cost: -1.2775050401687622\n",
      "Step 73, Cost: -1.2754403352737427\n",
      "Step 74, Cost: -1.192478060722351\n",
      "Step 75, Cost: -1.1585594415664673\n"
     ]
    }
   ],
   "source": [
    "\n",
    "\n",
    "for step in range(num_steps):\n",
    "    model.eval()\n",
    "    output = model(crafted_input)\n",
    "    cost = output[0, target_class]\n",
    "    \n",
    "    # Backpropagate\n",
    "    cost.backward()\n",
    "    \n",
    "    # Update input\n",
    "    with torch.no_grad():\n",
    "        gradients = crafted_input.grad\n",
    "        crafted_input += gradients * lr\n",
    "        crafted_input.grad.zero_()\n",
    "    \n",
    "    print(f\"Step {step+1}, Cost: {cost.item()}\")\n"
   ]
  },
  {
   "cell_type": "code",
   "execution_count": 94,
   "metadata": {
    "execution": {
     "iopub.execute_input": "2025-02-15T21:10:45.910877Z",
     "iopub.status.busy": "2025-02-15T21:10:45.910497Z",
     "iopub.status.idle": "2025-02-15T21:10:46.228620Z",
     "shell.execute_reply": "2025-02-15T21:10:46.227705Z",
     "shell.execute_reply.started": "2025-02-15T21:10:45.910835Z"
    },
    "trusted": true
   },
   "outputs": [
    {
     "data": {
      "text/plain": [
       "<matplotlib.image.AxesImage at 0x7e91b0cf8c10>"
      ]
     },
     "execution_count": 94,
     "metadata": {},
     "output_type": "execute_result"
    },
    {
     "data": {
      "image/png": "[encoded data removed]",
      "text/plain": [
       "<Figure size 640x480 with 1 Axes>"
      ]
     },
     "metadata": {},
     "output_type": "display_data"
    }
   ],
   "source": [
    "#visualize the crafted input\n",
    "crafted_image = crafted_input.detach().numpy().squeeze()\n",
    "plt.imshow(crafted_image, cmap='gray')"
   ]
  }
 ],
 "metadata": {
  "kaggle": {
   "accelerator": "nvidiaTeslaT4",
   "dataSources": [
    {
     "modelId": 183729,
     "modelInstanceId": 161361,
     "sourceId": 189256,
     "sourceType": "modelInstanceVersion"
    }
   ],
   "dockerImageVersionId": 30804,
   "isGpuEnabled": true,
   "isInternetEnabled": false,
   "language": "python",
   "sourceType": "notebook"
  },
  "kernelspec": {
   "display_name": "Python 3",
   "language": "python",
   "name": "python3"
  },
  "language_info": {
   "codemirror_mode": {
    "name": "ipython",
    "version": 3
   },
   "file_extension": ".py",
   "mimetype": "text/x-python",
   "name": "python",
   "nbconvert_exporter": "python",
   "pygments_lexer": "ipython3",
   "version": "3.10.14"
  }
 },
 "nbformat": 4,
 "nbformat_minor": 4
}
